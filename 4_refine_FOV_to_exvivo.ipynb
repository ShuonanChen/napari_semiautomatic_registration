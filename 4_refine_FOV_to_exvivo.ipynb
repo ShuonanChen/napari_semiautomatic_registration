{
 "cells": [
  {
   "cell_type": "markdown",
   "id": "4a73fcac",
   "metadata": {},
   "source": [
    "# refine FOV to exvivo registration and save the matching cells coordinates\n",
    "- requires napari to refine registration and selecting the dots to save."
   ]
  },
  {
   "cell_type": "code",
   "execution_count": 2,
   "id": "65f42e01",
   "metadata": {},
   "outputs": [
    {
     "name": "stdout",
     "output_type": "stream",
     "text": [
      "070924\n"
     ]
    }
   ],
   "source": [
    "\n",
    "from datetime import date\n",
    "import tifffile, pickle, napari, pprint\n",
    "import sys, glob\n",
    "import numpy as np\n",
    "import matplotlib.pyplot as plt\n",
    "np.set_printoptions(suppress=True)\n",
    "import scipy.ndimage as ndi\n",
    "\n",
    "from datetime import date\n",
    "today = date.today()\n",
    "todaystamp = today.strftime(\"%m%d%y\")\n",
    "print(todaystamp)\n",
    "sys.path.append('./functions/')\n",
    "import transformations"
   ]
  },
  {
   "cell_type": "markdown",
   "id": "e0750ca4",
   "metadata": {},
   "source": [
    "# load exvivo "
   ]
  },
  {
   "cell_type": "code",
   "execution_count": 3,
   "id": "c7159701",
   "metadata": {},
   "outputs": [
    {
     "name": "stdout",
     "output_type": "stream",
     "text": [
      "(2, 48, 1517, 1618)\n"
     ]
    }
   ],
   "source": [
    "datadir= '/path_to_the_data/'\n",
    "exvivo_f = datadir + 'exvivo_2xds.pkl'\n",
    "exvivo = pickle.load(open(exvivo_f,'rb'))[:,::-1]  #144um, because each z is 1.5 um!\n",
    "exvivo[exvivo<=0]=0\n",
    "print(exvivo.shape)  # channels are BV/tomatos"
   ]
  },
  {
   "cell_type": "code",
   "execution_count": 4,
   "id": "a634d390",
   "metadata": {},
   "outputs": [],
   "source": [
    "Z = exvivo.shape[1]"
   ]
  },
  {
   "cell_type": "markdown",
   "id": "008a8ea8",
   "metadata": {},
   "source": [
    "# also load transformed invivo as the reference \n",
    "- note here we are loading the output from the transformed result from `invivo_to_exvivo` notebook"
   ]
  },
  {
   "cell_type": "code",
   "execution_count": 10,
   "id": "a39d7e28",
   "metadata": {},
   "outputs": [],
   "source": [
    "base_dir='/set_your_output_directory/'  # note this is also where the output will be stored!\n",
    "invivo_t = pickle.load(open(base_dir + f'transformed_06202024.pkl','rb'))['transformed'][:Z]\n",
    "# invivo_t = pickle.load(open('/Users/shuonan/Downloads/invivo_tomato_T_2xds.pkl', 'rb'))[:Z]"
   ]
  },
  {
   "cell_type": "code",
   "execution_count": 11,
   "id": "af1607d2",
   "metadata": {},
   "outputs": [
    {
     "data": {
      "text/plain": [
       "(48, 1517, 1618)"
      ]
     },
     "execution_count": 11,
     "metadata": {},
     "output_type": "execute_result"
    }
   ],
   "source": [
    "invivo_t.shape"
   ]
  },
  {
   "cell_type": "markdown",
   "id": "8c077364",
   "metadata": {},
   "source": [
    "# load ONE fov"
   ]
  },
  {
   "cell_type": "code",
   "execution_count": 12,
   "id": "f29ebb32",
   "metadata": {},
   "outputs": [
    {
     "data": {
      "text/plain": [
       "['/Users/shuonan/Downloads/transformed_FOVs/FOV_Stacked_ch2_movie_FOV13_14_zstack_1100nm_3x_.tif_mapped_to_exvivo_2xds.pkl',\n",
       " '/Users/shuonan/Downloads/transformed_FOVs/FOV_Stacked_ch2_movie_FOV9_zstack_1100nm_3x_.tif_mapped_to_exvivo_2xds.pkl',\n",
       " '/Users/shuonan/Downloads/transformed_FOVs/FOV_Stacked_ch2_movie_FOV3_4_zstack_1100nm_3x_.tif_mapped_to_exvivo_2xds.pkl',\n",
       " '/Users/shuonan/Downloads/transformed_FOVs/FOV_Stacked_ch2_movie_FOV11_12_zstack_1100nm_3x_.tif_mapped_to_exvivo_2xds.pkl',\n",
       " '/Users/shuonan/Downloads/transformed_FOVs/FOV_Stacked_ch2_movie_FOV10_zstack_1100nm_3x.tif_mapped_to_exvivo_2xds.pkl',\n",
       " '/Users/shuonan/Downloads/transformed_FOVs/FOV_Stacked_ch2_movie_FOV1_2_zstack_1100nm_3x_.tif_mapped_to_exvivo_2xds.pkl']"
      ]
     },
     "execution_count": 12,
     "metadata": {},
     "output_type": "execute_result"
    }
   ],
   "source": [
    "transformedFOV_path = \"/Users/shuonan/Downloads/transformed_FOVs/\"\n",
    "glob.glob(transformedFOV_path+\"*\")"
   ]
  },
  {
   "cell_type": "code",
   "execution_count": 18,
   "id": "de30c01e",
   "metadata": {},
   "outputs": [
    {
     "name": "stdout",
     "output_type": "stream",
     "text": [
      "(48, 1517, 1618)\n"
     ]
    }
   ],
   "source": [
    "fovfile = transformedFOV_path + 'FOV_Stacked_ch2_movie_FOV11_12_zstack_1100nm_3x_.tif_mapped_to_exvivo_2xds.pkl'\n",
    "mapped_fov = pickle.load(open(fovfile, 'rb'))[:Z]\n",
    "print(mapped_fov.shape)"
   ]
  },
  {
   "cell_type": "code",
   "execution_count": 19,
   "id": "110c6c85",
   "metadata": {},
   "outputs": [
    {
     "data": {
      "text/plain": [
       "<matplotlib.image.AxesImage at 0x7fdc64817a60>"
      ]
     },
     "execution_count": 19,
     "metadata": {},
     "output_type": "execute_result"
    },
    {
     "data": {
      "image/png": "[encoded data removed]",
      "text/plain": [
       "<Figure size 640x480 with 1 Axes>"
      ]
     },
     "metadata": {},
     "output_type": "display_data"
    }
   ],
   "source": [
    "plt.imshow(np.max(mapped_fov,1))"
   ]
  },
  {
   "cell_type": "code",
   "execution_count": 20,
   "id": "f139e552",
   "metadata": {},
   "outputs": [
    {
     "name": "stdout",
     "output_type": "stream",
     "text": [
      "11_12\n"
     ]
    }
   ],
   "source": [
    "fov_id = fovfile.split('/')[-1].split('FOV')[2].split('_zstack')[0]\n",
    "print(fov_id)"
   ]
  },
  {
   "cell_type": "markdown",
   "id": "837d349d",
   "metadata": {},
   "source": [
    "# launch napari \n",
    "- note we are NOT transforming invivo layer to save time. `in_layer` is purely for the diagnosis purpose, and only be used before starting the registration. feel free to remove it if necessary. "
   ]
  },
  {
   "cell_type": "code",
   "execution_count": 21,
   "id": "989f2cca",
   "metadata": {},
   "outputs": [
    {
     "name": "stdout",
     "output_type": "stream",
     "text": [
      "learning scale..\n",
      "scale difference: 0.9815037085163179\n",
      "applying rigid..\n",
      "done transform!\n"
     ]
    }
   ],
   "source": [
    "## note here the transforming ones are the fov_layers!!!\n",
    "features = {'label': np.empty(0, dtype=int)}\n",
    "all_transform_FOV = []\n",
    "\n",
    "viewer = napari.view_image(exvivo[1][None],channel_axis=0,name=['EX Tomato'],\n",
    "                           contrast_limits=(0,exvivo[1].max()),colormap=\"green\", visible = [True], blending='additive')\n",
    "fov_layer = viewer.add_image(mapped_fov[None],channel_axis=0,name=[f'FOV {fov_id} tomato'],\n",
    "                             contrast_limits=(0,mapped_fov.max()), colormap='red',visible = [True], blending='additive')\n",
    "in_layer = viewer.add_image(invivo_t[None],channel_axis=0,name=[f'invivo tomato'],\n",
    "                             contrast_limits=(0,invivo_t.max()), colormap='red',visible = [True], blending='additive')\n",
    "\n",
    "\n",
    "pl_in = viewer.add_points(\n",
    "    size=10, edge_width=1, edge_color='red',face_color='transparent',name=f\"IN points\", text='label', \n",
    "    features=features,ndim=3,out_of_slice_display=True)\n",
    "@pl_in.events.data.connect\n",
    "def update_feature_default_invivo():  \n",
    "    global points_layer\n",
    "    no_of_points = len(pl_in.data)\n",
    "    pl_in.feature_defaults['label'] = no_of_points + 1\n",
    "    pl_in.properties[\"label\"][0:no_of_points] = range(1, no_of_points+1)\n",
    "    pl_in.text.values[0:no_of_points] = [str(i) for i in range(1, no_of_points+1)]\n",
    "    pl_in.text.color = 'red'\n",
    "    pl_in.text.translation = np.array([-10, 0])\n",
    "update_feature_default_invivo()\n",
    "pl_in.mode = 'add'\n",
    "\n",
    "pl_ex = viewer.add_points(\n",
    "    size=10, edge_width=1, edge_color='green',face_color='transparent',name=f\"EX points\", text='label', \n",
    "    features=features,ndim=3,out_of_slice_display=True)\n",
    "@pl_ex.events.data.connect\n",
    "def update_feature_default_exvivo():  \n",
    "    global points_layer\n",
    "    no_of_points = len(pl_ex.data)\n",
    "    pl_ex.feature_defaults['label'] = no_of_points + 1\n",
    "    pl_ex.properties[\"label\"][0:no_of_points] = range(1, no_of_points+1)\n",
    "    pl_ex.text.values[0:no_of_points] = [str(i) for i in range(1, no_of_points+1)]\n",
    "    pl_ex.text.color = 'green'\n",
    "    pl_ex.text.translation = np.array([-10, 0])\n",
    "update_feature_default_exvivo()\n",
    "pl_ex.mode = 'add'\n",
    "\n",
    "\n",
    "@viewer.bind_key('s', overwrite = True)\n",
    "def scale(viewer):  \n",
    "    C = 1\n",
    "    print('learning scale..')\n",
    "    m_invivo = viewer.layers[f\"IN points\"].data\n",
    "    m_exvivo = viewer.layers[f\"EX points\"].data\n",
    "    assert len(m_invivo)==len(m_exvivo), f\"{len(m_invivo), len(m_exvivo)}\"\n",
    "    s_invivo = np.sqrt(np.sum((m_invivo-np.mean(m_invivo,0))**2)/len(m_invivo))\n",
    "    s_exvivo = np.sqrt(np.sum((m_exvivo-np.mean(m_exvivo,0))**2)/len(m_exvivo))\n",
    "    scl = s_exvivo/s_invivo\n",
    "    print(f'scale difference: {scl}')\n",
    "    m_invivo_new = scl*m_invivo    \n",
    "    fov_layer_scaled = np.array([ndi.zoom(fov_layer[c].data, scl, order=1) for c in range(C)])    \n",
    "    for c in range(C):\n",
    "        fov_layer[c].data = fov_layer_scaled[c]\n",
    "    viewer.layers[\"IN points\"].data = m_invivo_new    \n",
    "    \n",
    "    \n",
    "@viewer.bind_key('t', overwrite = True)\n",
    "def transform(viewer):    \n",
    "    C=1\n",
    "    viewer.update_console(locals())\n",
    "    print('applying rigid..')\n",
    "    m_invivo = viewer.layers[f\"IN points\"].data\n",
    "    m_exvivo = viewer.layers[f\"EX points\"].data\n",
    "    assert len(m_invivo)==len(m_exvivo), f\"{len(m_invivo), len(m_exvivo)}\"\n",
    "    bhat = wahba(m_invivo, m_exvivo)\n",
    "    offset = -(bhat[:3,:3])@bhat[-1]\n",
    "    fov_layer_affined = np.array([ndi.affine_transform(fov_layer[c].data, bhat[:3,:3],\n",
    "                                                    output_shape = viewer.layers['EX Tomato'].data.shape,\n",
    "                                                    offset = offset, order=1) for c in range(C)])\n",
    "    foo = np.c_[m_invivo, np.ones((m_invivo.shape[0],1))]   #Nx4    \n",
    "    m_invivo_new = foo@bhat\n",
    "    viewer.layers[\"IN points\"].data = m_invivo_new    \n",
    "    all_transform_FOV.append(dict(bhat=bhat))\n",
    "    for c in range(C):\n",
    "        fov_layer[c].data = fov_layer_affined[c]\n",
    "    print(\"done transform!\")\n",
    "\n",
    "# again this is to deform in vivo points to map to exvivo points!\n",
    "@viewer.bind_key('d', overwrite = True)\n",
    "def deform(viewer):    \n",
    "    print('applying deformable..')\n",
    "    ksz = 10\n",
    "    m_invivo = viewer.layers[f\"IN points\"].data\n",
    "    m_exvivo = viewer.layers[f\"EX points\"].data \n",
    "    assert len(m_invivo)==len(m_exvivo), f\"{len(m_invivo), len(m_exvivo)}\"\n",
    "    shift = m_exvivo-m_invivo   # so the newcoords = old+shift --> vecfield will have how much shift needed to apply to the old coords\n",
    "    vec_field = np.zeros(fov_layer[0].data.shape + (3,))  # M1,M2,2\n",
    "    for p,loc in enumerate(m_invivo):\n",
    "        vec_field[int(loc[0]),int(loc[1]),int(loc[2])] = shift[p]\n",
    "    for c in range(3):\n",
    "        vec_field[...,c] = ndi.gaussian_filter(vec_field[...,c], ksz)\n",
    "    A = np.zeros_like(m_invivo)\n",
    "    for p,loc in enumerate(m_invivo):\n",
    "        A[p] = vec_field[int(loc[0]),int(loc[1]),int(loc[2])]\n",
    "    diag_step,_,_,_ = np.linalg.lstsq(A,shift,rcond=None)\n",
    "    step = np.diag(diag_step)\n",
    "    vec_field_total =vec_field*step;  # element wise. \n",
    "    all_transform_FOV.append(dict(vec_field_total=vec_field_total))\n",
    "    mapz_base, mapx_base, mapy_base = np.meshgrid(np.arange(fov_layer[0].data.shape[0]),np.arange(fov_layer[0].data.shape[1]), \n",
    "                                       np.arange(fov_layer[0].data.shape[2]), indexing='ij')\n",
    "    mapz=mapz_base-vec_field_total[:,:,:,0]\n",
    "    mapx=mapx_base-vec_field_total[:,:,:,1]\n",
    "    mapy=mapy_base-vec_field_total[:,:,:,2]\n",
    "    \n",
    "    for c in range(2):\n",
    "        print(f'... warping for channel {c}')\n",
    "        img_de = warp(fov_layer[c].data,np.array((mapz,mapx,mapy)), order = 1)            \n",
    "        fov_layer[c].data = img_de    \n",
    "    \n",
    "    m_invivo_new = np.zeros_like(m_invivo)  # POINTS\n",
    "    for p,loc in enumerate(m_invivo):\n",
    "        new_s = vec_field_total[int(loc[0]),int(loc[1]),int(loc[2])]\n",
    "        m_invivo_new[p] = loc+new_s\n",
    "    viewer.layers[\"IN points\"].data = m_invivo_new\n",
    "    \n",
    "    plt.figure(figsize = (10,3))\n",
    "    for c in range(3):\n",
    "        plt.subplot(1,3,c+1)\n",
    "        plt.imshow(np.max(vec_field_total[...,c], 0))\n",
    "        plt.colorbar()\n",
    "    print('done deformation!')\n",
    "    plt.show()\n",
    "        \n",
    "    \n",
    "@viewer.bind_key('c',overwrite = True)\n",
    "def clear_selected(viewer):        \n",
    "    viewer.layers[f\"IN points\"].data = np.empty((0, 3))\n",
    "    viewer.layers[f\"EX points\"].data = np.empty((0, 3))\n",
    "\n",
    "\n",
    "@viewer.bind_key('q', overwrite = True)\n",
    "def save_rez(viewer):     \n",
    "    out_dict = dict()\n",
    "    out_dict['transformed tomato']=viewer.layers[f'FOV {fov_id} tomato'].data.astype('float16')\n",
    "    out_dict['invivo points']=viewer.layers['IN points'].data\n",
    "    out_dict['exvivo points']=viewer.layers['EX points'].data\n",
    "#     out_dict['transformed gcamp']=viewer.layers[f'FOV {fov_id} gcamp'].data.astype('float16')\n",
    "    out_dict['transformations']=all_transform_FOV      \n",
    "    \n",
    "    pickle.dump(out_dict, open(base_dir + f'transformed_fov_{fov_id}_{todaystamp}.pkl','wb'))\n",
    "    print(f\"saved the results! ({base_dir + f'transformed_fov_{fov_id}_{todaystamp}.pkl'})\")\n",
    "    "
   ]
  },
  {
   "cell_type": "code",
   "execution_count": null,
   "id": "73edbedb",
   "metadata": {},
   "outputs": [],
   "source": []
  },
  {
   "cell_type": "code",
   "execution_count": null,
   "id": "c7c01a21",
   "metadata": {},
   "outputs": [],
   "source": []
  },
  {
   "cell_type": "code",
   "execution_count": null,
   "id": "65947f4e",
   "metadata": {},
   "outputs": [],
   "source": []
  },
  {
   "cell_type": "code",
   "execution_count": null,
   "id": "d8010a17",
   "metadata": {},
   "outputs": [],
   "source": []
  }
 ],
 "metadata": {
  "kernelspec": {
   "display_name": "cv2",
   "language": "python",
   "name": "cv2"
  },
  "language_info": {
   "codemirror_mode": {
    "name": "ipython",
    "version": 3
   },
   "file_extension": ".py",
   "mimetype": "text/x-python",
   "name": "python",
   "nbconvert_exporter": "python",
   "pygments_lexer": "ipython3",
   "version": "3.10.14"
  }
 },
 "nbformat": 4,
 "nbformat_minor": 5
}
