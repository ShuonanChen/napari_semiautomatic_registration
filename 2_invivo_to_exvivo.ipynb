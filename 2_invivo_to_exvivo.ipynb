{
 "cells": [
  {
   "cell_type": "markdown",
   "id": "c5c2625c",
   "metadata": {},
   "source": [
    "# invivo to exvivo mapping, using napari. \n",
    "- key hint:\n",
    "    - s: scaling --> learn the scale and adjust the images\n",
    "    - t: transform --> rigid transformation\n",
    "    - r: reverse the previous transfrom\n",
    "    - c: clear --> clear all selection of matched points.\n",
    "    - d: deformable --> apply deformable for the matched points.\n",
    "    - q: quit --> well it doesnt quit the gui, it just save the results so dont press this unless you are done. dont forget to save!"
   ]
  },
  {
   "cell_type": "code",
   "execution_count": 6,
   "id": "0066a61d",
   "metadata": {},
   "outputs": [
    {
     "name": "stdout",
     "output_type": "stream",
     "text": [
      "070924\n"
     ]
    }
   ],
   "source": [
    "\n",
    "from datetime import date\n",
    "import tifffile\n",
    "import napari, pprint, sys\n",
    "import numpy as np\n",
    "import pickle\n",
    "import matplotlib.pyplot as plt\n",
    "np.set_printoptions(suppress=True)\n",
    "import scipy.ndimage as ndi\n",
    "from datetime import date\n",
    "today = date.today()\n",
    "todaystamp = today.strftime(\"%m%d%y\")\n",
    "print(todaystamp)\n",
    "sys.path.append('./functions/')\n",
    "import transformations"
   ]
  },
  {
   "cell_type": "code",
   "execution_count": null,
   "id": "0f5ab2f7",
   "metadata": {},
   "outputs": [],
   "source": [
    "datadir= '/Users/shuonan/Dropbox/project/multimodal_2023/xinxindata/G130/'\n",
    "base_dir='/Users/shuonan/Dropbox/project/multimodal_2023/xinxindata/G130/transformed/'"
   ]
  },
  {
   "cell_type": "code",
   "execution_count": 44,
   "id": "1b6ea0e8",
   "metadata": {},
   "outputs": [
    {
     "name": "stdout",
     "output_type": "stream",
     "text": [
      "(2, 269, 784, 733) (2, 48, 1517, 1618)\n"
     ]
    }
   ],
   "source": [
    "invivo_f = datadir + 'invivo_2xds.pkl'\n",
    "exvivo_f = datadir + 'exvivo_2xds.pkl'\n",
    "\n",
    "invivo = pickle.load(open(invivo_f,'rb'))\n",
    "exvivo = pickle.load(open(exvivo_f,'rb'))[:,::-1]  #144um, because each z is 1.5 um!\n",
    "\n",
    "invivo[invivo<=0]=0\n",
    "exvivo[exvivo<=0]=0\n",
    "print(invivo.shape, exvivo.shape)"
   ]
  },
  {
   "cell_type": "code",
   "execution_count": 66,
   "id": "d1729f98",
   "metadata": {},
   "outputs": [
    {
     "name": "stdout",
     "output_type": "stream",
     "text": [
      "learning scale..\n",
      "scale difference (ex/in): 0.9785990833839613\n",
      "applying rigid..\n",
      "done transform!\n",
      "applying rigid..\n",
      "done transform!\n",
      "learning scale..\n",
      "scale difference (ex/in): 1.0006087714288114\n",
      "applying rigid..\n",
      "done transform!\n",
      "saved the results!\n"
     ]
    }
   ],
   "source": [
    "channel_name = [\"BV\", 'tomatos']\n",
    "C = len(channel_name)\n",
    "\n",
    "features = {'label': np.empty(0, dtype=int)}\n",
    "all_transform = []\n",
    "viewer = napari.view_image(exvivo,channel_axis=0,\n",
    "                            name=[f'exvivo {c}' for c in channel_name],\n",
    "                            colormap=\"green\", \n",
    "                            visible = [True,False],\n",
    "                           contrast_limits=[(0,exvivo[0].max()*1),(0,exvivo[1].max()*1)],\n",
    "                           blending = 'additive',\n",
    "                           gamma = .5,)\n",
    "in_layer = viewer.add_image(invivo,channel_axis=0,\n",
    "                           name=[f'invivo {c}' for c in channel_name],\n",
    "                           colormap='red', \n",
    "                           visible = [True,False],\n",
    "                          contrast_limits=[(0,invivo[0].max()*1),(0,invivo[1].max()*1)],\n",
    "                           blending = 'additive',\n",
    "                           gamma = .5,)\n",
    "pl_in = viewer.add_points(size=10, edge_width=1, edge_color='red',face_color='transparent',name=f\"invivo points\", text='label', features=features,ndim=3,out_of_slice_display=True)\n",
    "\n",
    "@pl_in.events.data.connect\n",
    "def update_feature_default_invivo():  \n",
    "    global points_layer\n",
    "    no_of_points = len(pl_in.data)\n",
    "    pl_in.feature_defaults['label'] = no_of_points + 1\n",
    "    pl_in.properties[\"label\"][0:no_of_points] = range(1, no_of_points+1)\n",
    "    pl_in.text.values[0:no_of_points] = [str(i) for i in range(1, no_of_points+1)]\n",
    "    pl_in.text.color = 'red'\n",
    "    pl_in.text.translation = np.array([-10, 0])\n",
    "update_feature_default_invivo()\n",
    "pl_in.mode = 'add'\n",
    "\n",
    "pl_ex = viewer.add_points(\n",
    "    size=10, edge_width=1, edge_color='green',face_color='transparent',name=f\"exvivo points\", text='label', features=features,ndim=3,out_of_slice_display=True)\n",
    "@pl_ex.events.data.connect\n",
    "def update_feature_default_exvivo():  \n",
    "    global points_layer\n",
    "    no_of_points = len(pl_ex.data)\n",
    "    pl_ex.feature_defaults['label'] = no_of_points + 1\n",
    "    pl_ex.properties[\"label\"][0:no_of_points] = range(1, no_of_points+1)\n",
    "    pl_ex.text.values[0:no_of_points] = [str(i) for i in range(1, no_of_points+1)]\n",
    "    pl_ex.text.color = 'green'\n",
    "    pl_ex.text.translation = np.array([-10, 0])\n",
    "update_feature_default_exvivo()\n",
    "pl_ex.mode = 'add'\n",
    "\n",
    "\n",
    "@viewer.bind_key('s', overwrite = True)\n",
    "def scale(viewer):  \n",
    "    print('learning scale..')\n",
    "    m_invivo = viewer.layers[f\"invivo points\"].data\n",
    "    m_exvivo = viewer.layers[f\"exvivo points\"].data\n",
    "    assert len(m_invivo)==len(m_exvivo), f\"{len(m_invivo), len(m_exvivo)}\"\n",
    "    s_invivo = np.sqrt(np.sum((m_invivo-np.mean(m_invivo,0))**2)/len(m_invivo))\n",
    "    s_exvivo = np.sqrt(np.sum((m_exvivo-np.mean(m_exvivo,0))**2)/len(m_exvivo))\n",
    "    scl = s_exvivo/s_invivo\n",
    "    print(f'scale difference (ex/in): {scl}')\n",
    "    m_invivo_new = scl*m_invivo    \n",
    "    invivo_scaled_small = np.array([ndi.zoom(in_layer[c].data, scl, order=1) for c in range(C)])    \n",
    "    all_transform.append(dict(scale=scl))\n",
    "    for c in range(C):\n",
    "        in_layer[c].data = invivo_scaled_small[c]\n",
    "    viewer.layers[\"invivo points\"].data = m_invivo_new    \n",
    "    \n",
    "\n",
    "    \n",
    "@viewer.bind_key('t', overwrite = True)\n",
    "def transform(viewer):    \n",
    "    viewer.update_console(locals())\n",
    "    print('applying rigid..')\n",
    "    m_invivo = viewer.layers[f\"invivo points\"].data\n",
    "    m_exvivo = viewer.layers[f\"exvivo points\"].data \n",
    "    assert len(m_invivo)==len(m_exvivo), f\"{len(m_invivo), len(m_exvivo)}\"\n",
    "    bhat = transformations.wahba(m_invivo,m_exvivo)\n",
    "    offset = -(bhat[:3,:3])@bhat[-1]\n",
    "    invivo_affined = np.array([ndi.affine_transform(in_layer[c].data, bhat[:3,:3],\n",
    "                                                    output_shape = viewer.layers['exvivo tomatos'].data.shape,offset = offset, order=1) for c in range(C)])\n",
    "    foo = np.c_[m_invivo, np.ones((m_invivo.shape[0],1))]   #Nx4\n",
    "    m_invivo_new = foo@bhat\n",
    "    all_transform.append(dict(bhat=bhat))\n",
    "    for c in range(C):\n",
    "        in_layer[c].data = invivo_affined[c]\n",
    "    viewer.layers[\"invivo points\"].data = m_invivo_new\n",
    "    print(\"done transform!\")\n",
    "    \n",
    "@viewer.bind_key('r', overwrite = True)\n",
    "def inv_transform(viewer):\n",
    "    print('inverting the process......')\n",
    "    global all_transform\n",
    "    viewer.update_console(locals())\n",
    "    assert list(all_transform[-1].keys())[0]=='bhat', 'can only invert affine transformations!'\n",
    "    lastbhat = all_transform[-1]['bhat']\n",
    "    m_invivo = viewer.layers[f\"invivo points\"].data    \n",
    "    invivo_inv_affined = np.array([ndi.affine_transform(in_layer[c].data, lastbhat[:3,:3].T,\n",
    "                                                    output_shape = viewer.layers['exvivo tomatos'].data.shape,\n",
    "                                                    offset = lastbhat[-1], order=1) for c in range(C)])    \n",
    "    for c in range(C):\n",
    "        in_layer[c].data = invivo_inv_affined[c]\n",
    "    m_invivo_new = (np.linalg.inv(lastbhat[:3,:3].T)@m_invivo.T - np.linalg.inv(lastbhat[:3,:3].T)@lastbhat[-1][:,None]).T\n",
    "    viewer.layers[\"invivo points\"].data = m_invivo_new\n",
    "    all_transform=all_transform[:-1]   \n",
    "    print('inverted the transformation!')\n",
    "    \n",
    "    \n",
    "        \n",
    "    \n",
    "@viewer.bind_key('c',overwrite = True)\n",
    "def clear_selected(viewer):        \n",
    "    viewer.layers[f\"invivo points\"].data = np.empty((0, 3))\n",
    "    viewer.layers[f\"exvivo points\"].data = np.empty((0, 3))\n",
    "\n",
    "@viewer.bind_key('q', overwrite = True)\n",
    "def save_rez(viewer):     \n",
    "    out_dict = dict()\n",
    "    out_dict['transformed']=np.array([in_layer[c].data for c in range(C)] )\n",
    "    out_dict['transformations']=all_transform    \n",
    "    \n",
    "    m_invivo = viewer.layers[f\"invivo points\"].data\n",
    "    m_exvivo = viewer.layers[f\"exvivo points\"].data \n",
    "    assert len(m_invivo)==len(m_exvivo), f\"{len(m_invivo), len(m_exvivo)}\"\n",
    "    out_dict['pcd_invivo'] = m_invivo\n",
    "    out_dict['pcd_exvivo'] = m_exvivo\n",
    "    pickle.dump(out_dict, open(base_dir + f'transformed_{todaystamp}.pkl','wb'))\n",
    "    print(\"saved the results!\")\n",
    "    "
   ]
  },
  {
   "cell_type": "code",
   "execution_count": null,
   "id": "dfcf8a61",
   "metadata": {},
   "outputs": [],
   "source": []
  },
  {
   "cell_type": "code",
   "execution_count": null,
   "id": "1e38b79c",
   "metadata": {},
   "outputs": [],
   "source": []
  },
  {
   "cell_type": "code",
   "execution_count": null,
   "id": "15c06554",
   "metadata": {},
   "outputs": [],
   "source": []
  },
  {
   "cell_type": "code",
   "execution_count": null,
   "id": "6b8fa0a4",
   "metadata": {},
   "outputs": [],
   "source": []
  },
  {
   "cell_type": "code",
   "execution_count": null,
   "id": "628cfdf5",
   "metadata": {},
   "outputs": [],
   "source": []
  },
  {
   "cell_type": "code",
   "execution_count": null,
   "id": "f98985e2",
   "metadata": {},
   "outputs": [],
   "source": []
  }
 ],
 "metadata": {
  "kernelspec": {
   "display_name": "cv2",
   "language": "python",
   "name": "cv2"
  },
  "language_info": {
   "codemirror_mode": {
    "name": "ipython",
    "version": 3
   },
   "file_extension": ".py",
   "mimetype": "text/x-python",
   "name": "python",
   "nbconvert_exporter": "python",
   "pygments_lexer": "ipython3",
   "version": "3.10.14"
  }
 },
 "nbformat": 4,
 "nbformat_minor": 5
}
